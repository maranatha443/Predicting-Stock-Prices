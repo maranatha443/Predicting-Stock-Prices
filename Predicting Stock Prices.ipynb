{
 "cells": [
  {
   "cell_type": "markdown",
   "id": "8d067178",
   "metadata": {},
   "source": [
    "# PREDICTING STOCK PRICES\n",
    "### Another \"Beginner\" Project\n",
    "This is to demonstrate time series knowledge via prediction of stock prices from historical data. A big shout out to Nick Renotte and the data quest guy(will put his name as soon as I confirm it), yep found it, Vikas Paruchuri my man, you ROCK.  "
   ]
  },
  {
   "cell_type": "markdown",
   "id": "8f4cda92",
   "metadata": {},
   "source": [
    "So as usual my strategy remains the same:"
   ]
  },
  {
   "cell_type": "markdown",
   "id": "7423e96a",
   "metadata": {},
   "source": [
    "1. Examine and Explore the data\n",
    "2. Clean the data\n",
    "3. Visualize the data\n",
    "4. Feature Engineering\n",
    "5. Modelling\n",
    "6. Evaluation\n",
    "7. Deployment(ish)"
   ]
  },
  {
   "cell_type": "markdown",
   "id": "5040199d",
   "metadata": {},
   "source": [
    "Note: In case you haven't noticed, I love spaces in between codes as jumbled codes give me creeps(kidding, I just get frustrated trying to read them.)"
   ]
  },
  {
   "cell_type": "markdown",
   "id": "362c1e3b",
   "metadata": {},
   "source": [
    "### Examine, Explore, Clean and Visualize the data.\n",
    "The data is clean hence, not much work is needed."
   ]
  },
  {
   "cell_type": "code",
   "execution_count": 12,
   "id": "b3b9d978",
   "metadata": {},
   "outputs": [],
   "source": [
    "# import our dependencies\n",
    "import yfinance as yf"
   ]
  },
  {
   "cell_type": "code",
   "execution_count": 13,
   "id": "3d0f20a1",
   "metadata": {},
   "outputs": [],
   "source": [
    "# get data to use(honestly, still a bit muddled about how it works, but we move.)\n",
    "\n",
    "sp500 = yf.Ticker('^GSPC')"
   ]
  },
  {
   "cell_type": "code",
   "execution_count": 14,
   "id": "f134dcc2",
   "metadata": {},
   "outputs": [],
   "source": [
    "# get all(aka suck it dry)\n",
    "\n",
    "sp500 = sp500.history('max')"
   ]
  },
  {
   "cell_type": "code",
   "execution_count": 15,
   "id": "4e1569e5",
   "metadata": {},
   "outputs": [],
   "source": [
    "# save to my local machine(irregular internet access)\n",
    "\n",
    "sp500.to_csv('StockPriceData')"
   ]
  },
  {
   "cell_type": "code",
   "execution_count": 16,
   "id": "cb2f4f38",
   "metadata": {
    "scrolled": true
   },
   "outputs": [
    {
     "data": {
      "text/html": [
       "<div>\n",
       "<style scoped>\n",
       "    .dataframe tbody tr th:only-of-type {\n",
       "        vertical-align: middle;\n",
       "    }\n",
       "\n",
       "    .dataframe tbody tr th {\n",
       "        vertical-align: top;\n",
       "    }\n",
       "\n",
       "    .dataframe thead th {\n",
       "        text-align: right;\n",
       "    }\n",
       "</style>\n",
       "<table border=\"1\" class=\"dataframe\">\n",
       "  <thead>\n",
       "    <tr style=\"text-align: right;\">\n",
       "      <th></th>\n",
       "      <th>Open</th>\n",
       "      <th>High</th>\n",
       "      <th>Low</th>\n",
       "      <th>Close</th>\n",
       "      <th>Volume</th>\n",
       "      <th>Dividends</th>\n",
       "      <th>Stock Splits</th>\n",
       "    </tr>\n",
       "    <tr>\n",
       "      <th>Date</th>\n",
       "      <th></th>\n",
       "      <th></th>\n",
       "      <th></th>\n",
       "      <th></th>\n",
       "      <th></th>\n",
       "      <th></th>\n",
       "      <th></th>\n",
       "    </tr>\n",
       "  </thead>\n",
       "  <tbody>\n",
       "    <tr>\n",
       "      <th>1950-01-03</th>\n",
       "      <td>16.66</td>\n",
       "      <td>16.66</td>\n",
       "      <td>16.66</td>\n",
       "      <td>16.66</td>\n",
       "      <td>1260000</td>\n",
       "      <td>0</td>\n",
       "      <td>0</td>\n",
       "    </tr>\n",
       "    <tr>\n",
       "      <th>1950-01-04</th>\n",
       "      <td>16.85</td>\n",
       "      <td>16.85</td>\n",
       "      <td>16.85</td>\n",
       "      <td>16.85</td>\n",
       "      <td>1890000</td>\n",
       "      <td>0</td>\n",
       "      <td>0</td>\n",
       "    </tr>\n",
       "    <tr>\n",
       "      <th>1950-01-05</th>\n",
       "      <td>16.93</td>\n",
       "      <td>16.93</td>\n",
       "      <td>16.93</td>\n",
       "      <td>16.93</td>\n",
       "      <td>2550000</td>\n",
       "      <td>0</td>\n",
       "      <td>0</td>\n",
       "    </tr>\n",
       "    <tr>\n",
       "      <th>1950-01-06</th>\n",
       "      <td>16.98</td>\n",
       "      <td>16.98</td>\n",
       "      <td>16.98</td>\n",
       "      <td>16.98</td>\n",
       "      <td>2010000</td>\n",
       "      <td>0</td>\n",
       "      <td>0</td>\n",
       "    </tr>\n",
       "    <tr>\n",
       "      <th>1950-01-09</th>\n",
       "      <td>17.08</td>\n",
       "      <td>17.08</td>\n",
       "      <td>17.08</td>\n",
       "      <td>17.08</td>\n",
       "      <td>2520000</td>\n",
       "      <td>0</td>\n",
       "      <td>0</td>\n",
       "    </tr>\n",
       "  </tbody>\n",
       "</table>\n",
       "</div>"
      ],
      "text/plain": [
       "             Open   High    Low  Close   Volume  Dividends  Stock Splits\n",
       "Date                                                                    \n",
       "1950-01-03  16.66  16.66  16.66  16.66  1260000          0             0\n",
       "1950-01-04  16.85  16.85  16.85  16.85  1890000          0             0\n",
       "1950-01-05  16.93  16.93  16.93  16.93  2550000          0             0\n",
       "1950-01-06  16.98  16.98  16.98  16.98  2010000          0             0\n",
       "1950-01-09  17.08  17.08  17.08  17.08  2520000          0             0"
      ]
     },
     "execution_count": 16,
     "metadata": {},
     "output_type": "execute_result"
    }
   ],
   "source": [
    "# importing dependencies\n",
    "import pandas as pd\n",
    "import matplotlib.pyplot as plt\n",
    "import seaborn as sns\n",
    "%matplotlib inline\n",
    "\n",
    "#check our dataframe\n",
    "#sp500 = pd.read_csv('StockPriceData', index_col='Date')\n",
    "sp500.head()"
   ]
  },
  {
   "cell_type": "code",
   "execution_count": 17,
   "id": "57d3a68b",
   "metadata": {},
   "outputs": [
    {
     "data": {
      "text/plain": [
       "<AxesSubplot:title={'center':'Trend of Closing value.'}, xlabel='Date', ylabel='Close'>"
      ]
     },
     "execution_count": 17,
     "metadata": {},
     "output_type": "execute_result"
    },
    {
     "data": {
      "image/png": "[encoded data removed]",
      "text/plain": [
       "<Figure size 1440x360 with 1 Axes>"
      ]
     },
     "metadata": {
      "needs_background": "light"
     },
     "output_type": "display_data"
    }
   ],
   "source": [
    "# plotting the Closing figure(value) over the years(decades?)\n",
    "plt.figure(figsize=(20,5))\n",
    "\n",
    "plt.title('Trend of Closing value.')\n",
    "\n",
    "sns.lineplot(x='Date', y='Close', data=sp500)"
   ]
  },
  {
   "cell_type": "code",
   "execution_count": 18,
   "id": "24abfc36",
   "metadata": {},
   "outputs": [
    {
     "name": "stdout",
     "output_type": "stream",
     "text": [
      "<class 'pandas.core.frame.DataFrame'>\n",
      "DatetimeIndex: 18220 entries, 1950-01-03 to 2022-05-27\n",
      "Data columns (total 7 columns):\n",
      " #   Column        Non-Null Count  Dtype  \n",
      "---  ------        --------------  -----  \n",
      " 0   Open          18220 non-null  float64\n",
      " 1   High          18220 non-null  float64\n",
      " 2   Low           18220 non-null  float64\n",
      " 3   Close         18220 non-null  float64\n",
      " 4   Volume        18220 non-null  int64  \n",
      " 5   Dividends     18220 non-null  int64  \n",
      " 6   Stock Splits  18220 non-null  int64  \n",
      "dtypes: float64(4), int64(3)\n",
      "memory usage: 1.1 MB\n"
     ]
    }
   ],
   "source": [
    "sp500.info()"
   ]
  },
  {
   "cell_type": "markdown",
   "id": "61fb9415",
   "metadata": {},
   "source": [
    "### Preliminary Observation(s)\n",
    "it would seem that the data only started to \"matter\" in the grand scheme of things, as from early 90s(ish) upwards. I guess we better check that out."
   ]
  },
  {
   "cell_type": "code",
   "execution_count": 19,
   "id": "b5b1c636",
   "metadata": {},
   "outputs": [
    {
     "data": {
      "text/plain": [
       "<AxesSubplot:title={'center':'Trend of Closing value up till 1990.'}, xlabel='Date', ylabel='Close'>"
      ]
     },
     "execution_count": 19,
     "metadata": {},
     "output_type": "execute_result"
    },
    {
     "data": {
      "image/png": "[encoded data removed]",
      "text/plain": [
       "<Figure size 1440x360 with 1 Axes>"
      ]
     },
     "metadata": {
      "needs_background": "light"
     },
     "output_type": "display_data"
    }
   ],
   "source": [
    "# Plotting for dates up to 1990-01-01\n",
    "\n",
    "plt.figure(figsize=(20,5))\n",
    "plt.title('Trend of Closing value up till 1990.')\n",
    "\n",
    "\n",
    "sns.lineplot(x='Date', y='Close',data=sp500.loc[:'1990-01-01'])"
   ]
  },
  {
   "cell_type": "markdown",
   "id": "40fcbeb9",
   "metadata": {},
   "source": [
    "Boy, was I wrong, apparently 1985, seems to have been the year of enlightenment, or is it?"
   ]
  },
  {
   "cell_type": "code",
   "execution_count": 20,
   "id": "d1845f3a",
   "metadata": {},
   "outputs": [
    {
     "data": {
      "text/plain": [
       "<AxesSubplot:title={'center':'Trend of Closing value up till 1985.'}, xlabel='Date', ylabel='Close'>"
      ]
     },
     "execution_count": 20,
     "metadata": {},
     "output_type": "execute_result"
    },
    {
     "data": {
      "image/png": "[encoded data removed]",
      "text/plain": [
       "<Figure size 1440x360 with 1 Axes>"
      ]
     },
     "metadata": {
      "needs_background": "light"
     },
     "output_type": "display_data"
    }
   ],
   "source": [
    "# Plotting for dates up to 1985-01-01\n",
    "\n",
    "plt.figure(figsize=(20,5))\n",
    "\n",
    "plt.title('Trend of Closing value up till 1985.')\n",
    "\n",
    "sns.lineplot(x='Date', y='Close',data=sp500.loc[:'1985-01-01'])"
   ]
  },
  {
   "cell_type": "markdown",
   "id": "dd6282e3",
   "metadata": {},
   "source": [
    "### Preliminary Conclusion(I promise, no more after this)\n",
    "As affirmed by many veterans(Daliana Liu et.al), you can torture any information you want out of data(tautology right?). A skilled data scientist is a fearful thing(@quaesita, accessed 2022)."
   ]
  },
  {
   "cell_type": "markdown",
   "id": "8ab14597",
   "metadata": {},
   "source": [
    "### Next Step"
   ]
  },
  {
   "cell_type": "markdown",
   "id": "485fb1c0",
   "metadata": {},
   "source": [
    "For our sanity, we'll cut it off at 1985."
   ]
  },
  {
   "cell_type": "code",
   "execution_count": 21,
   "id": "853954de",
   "metadata": {},
   "outputs": [
    {
     "data": {
      "text/html": [
       "<div>\n",
       "<style scoped>\n",
       "    .dataframe tbody tr th:only-of-type {\n",
       "        vertical-align: middle;\n",
       "    }\n",
       "\n",
       "    .dataframe tbody tr th {\n",
       "        vertical-align: top;\n",
       "    }\n",
       "\n",
       "    .dataframe thead th {\n",
       "        text-align: right;\n",
       "    }\n",
       "</style>\n",
       "<table border=\"1\" class=\"dataframe\">\n",
       "  <thead>\n",
       "    <tr style=\"text-align: right;\">\n",
       "      <th></th>\n",
       "      <th>Open</th>\n",
       "      <th>High</th>\n",
       "      <th>Low</th>\n",
       "      <th>Close</th>\n",
       "      <th>Volume</th>\n",
       "      <th>Dividends</th>\n",
       "      <th>Stock Splits</th>\n",
       "    </tr>\n",
       "    <tr>\n",
       "      <th>Date</th>\n",
       "      <th></th>\n",
       "      <th></th>\n",
       "      <th></th>\n",
       "      <th></th>\n",
       "      <th></th>\n",
       "      <th></th>\n",
       "      <th></th>\n",
       "    </tr>\n",
       "  </thead>\n",
       "  <tbody>\n",
       "    <tr>\n",
       "      <th>1985-01-02</th>\n",
       "      <td>167.199997</td>\n",
       "      <td>167.199997</td>\n",
       "      <td>165.190002</td>\n",
       "      <td>165.369995</td>\n",
       "      <td>67820000</td>\n",
       "      <td>0</td>\n",
       "      <td>0</td>\n",
       "    </tr>\n",
       "    <tr>\n",
       "      <th>1985-01-03</th>\n",
       "      <td>165.369995</td>\n",
       "      <td>166.110001</td>\n",
       "      <td>164.380005</td>\n",
       "      <td>164.570007</td>\n",
       "      <td>88880000</td>\n",
       "      <td>0</td>\n",
       "      <td>0</td>\n",
       "    </tr>\n",
       "    <tr>\n",
       "      <th>1985-01-04</th>\n",
       "      <td>164.550003</td>\n",
       "      <td>164.550003</td>\n",
       "      <td>163.360001</td>\n",
       "      <td>163.679993</td>\n",
       "      <td>77480000</td>\n",
       "      <td>0</td>\n",
       "      <td>0</td>\n",
       "    </tr>\n",
       "    <tr>\n",
       "      <th>1985-01-07</th>\n",
       "      <td>163.679993</td>\n",
       "      <td>164.710007</td>\n",
       "      <td>163.679993</td>\n",
       "      <td>164.240005</td>\n",
       "      <td>86190000</td>\n",
       "      <td>0</td>\n",
       "      <td>0</td>\n",
       "    </tr>\n",
       "    <tr>\n",
       "      <th>1985-01-08</th>\n",
       "      <td>164.240005</td>\n",
       "      <td>164.589996</td>\n",
       "      <td>163.910004</td>\n",
       "      <td>163.990005</td>\n",
       "      <td>92110000</td>\n",
       "      <td>0</td>\n",
       "      <td>0</td>\n",
       "    </tr>\n",
       "    <tr>\n",
       "      <th>...</th>\n",
       "      <td>...</td>\n",
       "      <td>...</td>\n",
       "      <td>...</td>\n",
       "      <td>...</td>\n",
       "      <td>...</td>\n",
       "      <td>...</td>\n",
       "      <td>...</td>\n",
       "    </tr>\n",
       "    <tr>\n",
       "      <th>2022-05-23</th>\n",
       "      <td>3919.419922</td>\n",
       "      <td>3981.879883</td>\n",
       "      <td>3909.040039</td>\n",
       "      <td>3973.750000</td>\n",
       "      <td>3392770000</td>\n",
       "      <td>0</td>\n",
       "      <td>0</td>\n",
       "    </tr>\n",
       "    <tr>\n",
       "      <th>2022-05-24</th>\n",
       "      <td>3942.939941</td>\n",
       "      <td>3955.679932</td>\n",
       "      <td>3875.129883</td>\n",
       "      <td>3941.479980</td>\n",
       "      <td>3901640000</td>\n",
       "      <td>0</td>\n",
       "      <td>0</td>\n",
       "    </tr>\n",
       "    <tr>\n",
       "      <th>2022-05-25</th>\n",
       "      <td>3929.590088</td>\n",
       "      <td>3999.330078</td>\n",
       "      <td>3925.030029</td>\n",
       "      <td>3978.729980</td>\n",
       "      <td>4322190000</td>\n",
       "      <td>0</td>\n",
       "      <td>0</td>\n",
       "    </tr>\n",
       "    <tr>\n",
       "      <th>2022-05-26</th>\n",
       "      <td>3984.600098</td>\n",
       "      <td>4075.139893</td>\n",
       "      <td>3984.600098</td>\n",
       "      <td>4057.840088</td>\n",
       "      <td>3961940000</td>\n",
       "      <td>0</td>\n",
       "      <td>0</td>\n",
       "    </tr>\n",
       "    <tr>\n",
       "      <th>2022-05-27</th>\n",
       "      <td>4077.429932</td>\n",
       "      <td>4158.490234</td>\n",
       "      <td>4077.429932</td>\n",
       "      <td>4158.240234</td>\n",
       "      <td>3560560000</td>\n",
       "      <td>0</td>\n",
       "      <td>0</td>\n",
       "    </tr>\n",
       "  </tbody>\n",
       "</table>\n",
       "<p>9429 rows × 7 columns</p>\n",
       "</div>"
      ],
      "text/plain": [
       "                   Open         High          Low        Close      Volume  \\\n",
       "Date                                                                         \n",
       "1985-01-02   167.199997   167.199997   165.190002   165.369995    67820000   \n",
       "1985-01-03   165.369995   166.110001   164.380005   164.570007    88880000   \n",
       "1985-01-04   164.550003   164.550003   163.360001   163.679993    77480000   \n",
       "1985-01-07   163.679993   164.710007   163.679993   164.240005    86190000   \n",
       "1985-01-08   164.240005   164.589996   163.910004   163.990005    92110000   \n",
       "...                 ...          ...          ...          ...         ...   \n",
       "2022-05-23  3919.419922  3981.879883  3909.040039  3973.750000  3392770000   \n",
       "2022-05-24  3942.939941  3955.679932  3875.129883  3941.479980  3901640000   \n",
       "2022-05-25  3929.590088  3999.330078  3925.030029  3978.729980  4322190000   \n",
       "2022-05-26  3984.600098  4075.139893  3984.600098  4057.840088  3961940000   \n",
       "2022-05-27  4077.429932  4158.490234  4077.429932  4158.240234  3560560000   \n",
       "\n",
       "            Dividends  Stock Splits  \n",
       "Date                                 \n",
       "1985-01-02          0             0  \n",
       "1985-01-03          0             0  \n",
       "1985-01-04          0             0  \n",
       "1985-01-07          0             0  \n",
       "1985-01-08          0             0  \n",
       "...               ...           ...  \n",
       "2022-05-23          0             0  \n",
       "2022-05-24          0             0  \n",
       "2022-05-25          0             0  \n",
       "2022-05-26          0             0  \n",
       "2022-05-27          0             0  \n",
       "\n",
       "[9429 rows x 7 columns]"
      ]
     },
     "execution_count": 21,
     "metadata": {},
     "output_type": "execute_result"
    }
   ],
   "source": [
    "# slicing the dataset from 1985-01-01\n",
    "\n",
    "sp500_new = sp500.loc['1985-01-01':]\n",
    "sp500_new"
   ]
  },
  {
   "cell_type": "markdown",
   "id": "d05f8b13",
   "metadata": {},
   "source": [
    "### Feature Engineering"
   ]
  },
  {
   "cell_type": "code",
   "execution_count": 22,
   "id": "28b93cbf",
   "metadata": {},
   "outputs": [
    {
     "data": {
      "text/html": [
       "<div>\n",
       "<style scoped>\n",
       "    .dataframe tbody tr th:only-of-type {\n",
       "        vertical-align: middle;\n",
       "    }\n",
       "\n",
       "    .dataframe tbody tr th {\n",
       "        vertical-align: top;\n",
       "    }\n",
       "\n",
       "    .dataframe thead th {\n",
       "        text-align: right;\n",
       "    }\n",
       "</style>\n",
       "<table border=\"1\" class=\"dataframe\">\n",
       "  <thead>\n",
       "    <tr style=\"text-align: right;\">\n",
       "      <th></th>\n",
       "      <th>Open</th>\n",
       "      <th>High</th>\n",
       "      <th>Low</th>\n",
       "      <th>Close</th>\n",
       "      <th>Volume</th>\n",
       "    </tr>\n",
       "    <tr>\n",
       "      <th>Date</th>\n",
       "      <th></th>\n",
       "      <th></th>\n",
       "      <th></th>\n",
       "      <th></th>\n",
       "      <th></th>\n",
       "    </tr>\n",
       "  </thead>\n",
       "  <tbody>\n",
       "    <tr>\n",
       "      <th>1985-01-02</th>\n",
       "      <td>167.199997</td>\n",
       "      <td>167.199997</td>\n",
       "      <td>165.190002</td>\n",
       "      <td>165.369995</td>\n",
       "      <td>67820000</td>\n",
       "    </tr>\n",
       "    <tr>\n",
       "      <th>1985-01-03</th>\n",
       "      <td>165.369995</td>\n",
       "      <td>166.110001</td>\n",
       "      <td>164.380005</td>\n",
       "      <td>164.570007</td>\n",
       "      <td>88880000</td>\n",
       "    </tr>\n",
       "    <tr>\n",
       "      <th>1985-01-04</th>\n",
       "      <td>164.550003</td>\n",
       "      <td>164.550003</td>\n",
       "      <td>163.360001</td>\n",
       "      <td>163.679993</td>\n",
       "      <td>77480000</td>\n",
       "    </tr>\n",
       "    <tr>\n",
       "      <th>1985-01-07</th>\n",
       "      <td>163.679993</td>\n",
       "      <td>164.710007</td>\n",
       "      <td>163.679993</td>\n",
       "      <td>164.240005</td>\n",
       "      <td>86190000</td>\n",
       "    </tr>\n",
       "    <tr>\n",
       "      <th>1985-01-08</th>\n",
       "      <td>164.240005</td>\n",
       "      <td>164.589996</td>\n",
       "      <td>163.910004</td>\n",
       "      <td>163.990005</td>\n",
       "      <td>92110000</td>\n",
       "    </tr>\n",
       "    <tr>\n",
       "      <th>...</th>\n",
       "      <td>...</td>\n",
       "      <td>...</td>\n",
       "      <td>...</td>\n",
       "      <td>...</td>\n",
       "      <td>...</td>\n",
       "    </tr>\n",
       "    <tr>\n",
       "      <th>2022-05-23</th>\n",
       "      <td>3919.419922</td>\n",
       "      <td>3981.879883</td>\n",
       "      <td>3909.040039</td>\n",
       "      <td>3973.750000</td>\n",
       "      <td>3392770000</td>\n",
       "    </tr>\n",
       "    <tr>\n",
       "      <th>2022-05-24</th>\n",
       "      <td>3942.939941</td>\n",
       "      <td>3955.679932</td>\n",
       "      <td>3875.129883</td>\n",
       "      <td>3941.479980</td>\n",
       "      <td>3901640000</td>\n",
       "    </tr>\n",
       "    <tr>\n",
       "      <th>2022-05-25</th>\n",
       "      <td>3929.590088</td>\n",
       "      <td>3999.330078</td>\n",
       "      <td>3925.030029</td>\n",
       "      <td>3978.729980</td>\n",
       "      <td>4322190000</td>\n",
       "    </tr>\n",
       "    <tr>\n",
       "      <th>2022-05-26</th>\n",
       "      <td>3984.600098</td>\n",
       "      <td>4075.139893</td>\n",
       "      <td>3984.600098</td>\n",
       "      <td>4057.840088</td>\n",
       "      <td>3961940000</td>\n",
       "    </tr>\n",
       "    <tr>\n",
       "      <th>2022-05-27</th>\n",
       "      <td>4077.429932</td>\n",
       "      <td>4158.490234</td>\n",
       "      <td>4077.429932</td>\n",
       "      <td>4158.240234</td>\n",
       "      <td>3560560000</td>\n",
       "    </tr>\n",
       "  </tbody>\n",
       "</table>\n",
       "<p>9429 rows × 5 columns</p>\n",
       "</div>"
      ],
      "text/plain": [
       "                   Open         High          Low        Close      Volume\n",
       "Date                                                                      \n",
       "1985-01-02   167.199997   167.199997   165.190002   165.369995    67820000\n",
       "1985-01-03   165.369995   166.110001   164.380005   164.570007    88880000\n",
       "1985-01-04   164.550003   164.550003   163.360001   163.679993    77480000\n",
       "1985-01-07   163.679993   164.710007   163.679993   164.240005    86190000\n",
       "1985-01-08   164.240005   164.589996   163.910004   163.990005    92110000\n",
       "...                 ...          ...          ...          ...         ...\n",
       "2022-05-23  3919.419922  3981.879883  3909.040039  3973.750000  3392770000\n",
       "2022-05-24  3942.939941  3955.679932  3875.129883  3941.479980  3901640000\n",
       "2022-05-25  3929.590088  3999.330078  3925.030029  3978.729980  4322190000\n",
       "2022-05-26  3984.600098  4075.139893  3984.600098  4057.840088  3961940000\n",
       "2022-05-27  4077.429932  4158.490234  4077.429932  4158.240234  3560560000\n",
       "\n",
       "[9429 rows x 5 columns]"
      ]
     },
     "execution_count": 22,
     "metadata": {},
     "output_type": "execute_result"
    }
   ],
   "source": [
    "# Remove 'Dividends' and 'Stock Splits'\n",
    "\n",
    "del sp500_new['Dividends']\n",
    "del sp500_new['Stock Splits']\n",
    "sp500_new"
   ]
  },
  {
   "cell_type": "code",
   "execution_count": 23,
   "id": "1b66a093",
   "metadata": {},
   "outputs": [
    {
     "name": "stderr",
     "output_type": "stream",
     "text": [
      "/data/user/0/ru.iiec.pydroid3/cache/ipykernel_6616/3952133536.py:3: SettingWithCopyWarning: \n",
      "A value is trying to be set on a copy of a slice from a DataFrame.\n",
      "Try using .loc[row_indexer,col_indexer] = value instead\n",
      "\n",
      "See the caveats in the documentation: https://pandas.pydata.org/pandas-docs/stable/user_guide/indexing.html#returning-a-view-versus-a-copy\n",
      "  sp500_new['Tomorrow'] = sp500_new['Close'].shift(-1)\n"
     ]
    },
    {
     "data": {
      "text/html": [
       "<div>\n",
       "<style scoped>\n",
       "    .dataframe tbody tr th:only-of-type {\n",
       "        vertical-align: middle;\n",
       "    }\n",
       "\n",
       "    .dataframe tbody tr th {\n",
       "        vertical-align: top;\n",
       "    }\n",
       "\n",
       "    .dataframe thead th {\n",
       "        text-align: right;\n",
       "    }\n",
       "</style>\n",
       "<table border=\"1\" class=\"dataframe\">\n",
       "  <thead>\n",
       "    <tr style=\"text-align: right;\">\n",
       "      <th></th>\n",
       "      <th>Open</th>\n",
       "      <th>High</th>\n",
       "      <th>Low</th>\n",
       "      <th>Close</th>\n",
       "      <th>Volume</th>\n",
       "      <th>Tomorrow</th>\n",
       "    </tr>\n",
       "    <tr>\n",
       "      <th>Date</th>\n",
       "      <th></th>\n",
       "      <th></th>\n",
       "      <th></th>\n",
       "      <th></th>\n",
       "      <th></th>\n",
       "      <th></th>\n",
       "    </tr>\n",
       "  </thead>\n",
       "  <tbody>\n",
       "    <tr>\n",
       "      <th>1985-01-02</th>\n",
       "      <td>167.199997</td>\n",
       "      <td>167.199997</td>\n",
       "      <td>165.190002</td>\n",
       "      <td>165.369995</td>\n",
       "      <td>67820000</td>\n",
       "      <td>164.570007</td>\n",
       "    </tr>\n",
       "    <tr>\n",
       "      <th>1985-01-03</th>\n",
       "      <td>165.369995</td>\n",
       "      <td>166.110001</td>\n",
       "      <td>164.380005</td>\n",
       "      <td>164.570007</td>\n",
       "      <td>88880000</td>\n",
       "      <td>163.679993</td>\n",
       "    </tr>\n",
       "    <tr>\n",
       "      <th>1985-01-04</th>\n",
       "      <td>164.550003</td>\n",
       "      <td>164.550003</td>\n",
       "      <td>163.360001</td>\n",
       "      <td>163.679993</td>\n",
       "      <td>77480000</td>\n",
       "      <td>164.240005</td>\n",
       "    </tr>\n",
       "    <tr>\n",
       "      <th>1985-01-07</th>\n",
       "      <td>163.679993</td>\n",
       "      <td>164.710007</td>\n",
       "      <td>163.679993</td>\n",
       "      <td>164.240005</td>\n",
       "      <td>86190000</td>\n",
       "      <td>163.990005</td>\n",
       "    </tr>\n",
       "    <tr>\n",
       "      <th>1985-01-08</th>\n",
       "      <td>164.240005</td>\n",
       "      <td>164.589996</td>\n",
       "      <td>163.910004</td>\n",
       "      <td>163.990005</td>\n",
       "      <td>92110000</td>\n",
       "      <td>165.179993</td>\n",
       "    </tr>\n",
       "    <tr>\n",
       "      <th>...</th>\n",
       "      <td>...</td>\n",
       "      <td>...</td>\n",
       "      <td>...</td>\n",
       "      <td>...</td>\n",
       "      <td>...</td>\n",
       "      <td>...</td>\n",
       "    </tr>\n",
       "    <tr>\n",
       "      <th>2022-05-23</th>\n",
       "      <td>3919.419922</td>\n",
       "      <td>3981.879883</td>\n",
       "      <td>3909.040039</td>\n",
       "      <td>3973.750000</td>\n",
       "      <td>3392770000</td>\n",
       "      <td>3941.479980</td>\n",
       "    </tr>\n",
       "    <tr>\n",
       "      <th>2022-05-24</th>\n",
       "      <td>3942.939941</td>\n",
       "      <td>3955.679932</td>\n",
       "      <td>3875.129883</td>\n",
       "      <td>3941.479980</td>\n",
       "      <td>3901640000</td>\n",
       "      <td>3978.729980</td>\n",
       "    </tr>\n",
       "    <tr>\n",
       "      <th>2022-05-25</th>\n",
       "      <td>3929.590088</td>\n",
       "      <td>3999.330078</td>\n",
       "      <td>3925.030029</td>\n",
       "      <td>3978.729980</td>\n",
       "      <td>4322190000</td>\n",
       "      <td>4057.840088</td>\n",
       "    </tr>\n",
       "    <tr>\n",
       "      <th>2022-05-26</th>\n",
       "      <td>3984.600098</td>\n",
       "      <td>4075.139893</td>\n",
       "      <td>3984.600098</td>\n",
       "      <td>4057.840088</td>\n",
       "      <td>3961940000</td>\n",
       "      <td>4158.240234</td>\n",
       "    </tr>\n",
       "    <tr>\n",
       "      <th>2022-05-27</th>\n",
       "      <td>4077.429932</td>\n",
       "      <td>4158.490234</td>\n",
       "      <td>4077.429932</td>\n",
       "      <td>4158.240234</td>\n",
       "      <td>3560560000</td>\n",
       "      <td>NaN</td>\n",
       "    </tr>\n",
       "  </tbody>\n",
       "</table>\n",
       "<p>9429 rows × 6 columns</p>\n",
       "</div>"
      ],
      "text/plain": [
       "                   Open         High          Low        Close      Volume  \\\n",
       "Date                                                                         \n",
       "1985-01-02   167.199997   167.199997   165.190002   165.369995    67820000   \n",
       "1985-01-03   165.369995   166.110001   164.380005   164.570007    88880000   \n",
       "1985-01-04   164.550003   164.550003   163.360001   163.679993    77480000   \n",
       "1985-01-07   163.679993   164.710007   163.679993   164.240005    86190000   \n",
       "1985-01-08   164.240005   164.589996   163.910004   163.990005    92110000   \n",
       "...                 ...          ...          ...          ...         ...   \n",
       "2022-05-23  3919.419922  3981.879883  3909.040039  3973.750000  3392770000   \n",
       "2022-05-24  3942.939941  3955.679932  3875.129883  3941.479980  3901640000   \n",
       "2022-05-25  3929.590088  3999.330078  3925.030029  3978.729980  4322190000   \n",
       "2022-05-26  3984.600098  4075.139893  3984.600098  4057.840088  3961940000   \n",
       "2022-05-27  4077.429932  4158.490234  4077.429932  4158.240234  3560560000   \n",
       "\n",
       "               Tomorrow  \n",
       "Date                     \n",
       "1985-01-02   164.570007  \n",
       "1985-01-03   163.679993  \n",
       "1985-01-04   164.240005  \n",
       "1985-01-07   163.990005  \n",
       "1985-01-08   165.179993  \n",
       "...                 ...  \n",
       "2022-05-23  3941.479980  \n",
       "2022-05-24  3978.729980  \n",
       "2022-05-25  4057.840088  \n",
       "2022-05-26  4158.240234  \n",
       "2022-05-27          NaN  \n",
       "\n",
       "[9429 rows x 6 columns]"
      ]
     },
     "execution_count": 23,
     "metadata": {},
     "output_type": "execute_result"
    }
   ],
   "source": [
    "# getting future(ish) forecasts from whats known\n",
    "\n",
    "sp500_new['Tomorrow'] = sp500_new['Close'].shift(-1)\n",
    "sp500_new"
   ]
  },
  {
   "cell_type": "code",
   "execution_count": 24,
   "id": "ccd7728e",
   "metadata": {},
   "outputs": [
    {
     "name": "stderr",
     "output_type": "stream",
     "text": [
      "/data/user/0/ru.iiec.pydroid3/cache/ipykernel_6616/3788601020.py:3: SettingWithCopyWarning: \n",
      "A value is trying to be set on a copy of a slice from a DataFrame.\n",
      "Try using .loc[row_indexer,col_indexer] = value instead\n",
      "\n",
      "See the caveats in the documentation: https://pandas.pydata.org/pandas-docs/stable/user_guide/indexing.html#returning-a-view-versus-a-copy\n",
      "  sp500_new['Target'] = (sp500_new['Tomorrow'] > sp500_new['Close']).astype(int)\n"
     ]
    },
    {
     "data": {
      "text/html": [
       "<div>\n",
       "<style scoped>\n",
       "    .dataframe tbody tr th:only-of-type {\n",
       "        vertical-align: middle;\n",
       "    }\n",
       "\n",
       "    .dataframe tbody tr th {\n",
       "        vertical-align: top;\n",
       "    }\n",
       "\n",
       "    .dataframe thead th {\n",
       "        text-align: right;\n",
       "    }\n",
       "</style>\n",
       "<table border=\"1\" class=\"dataframe\">\n",
       "  <thead>\n",
       "    <tr style=\"text-align: right;\">\n",
       "      <th></th>\n",
       "      <th>Open</th>\n",
       "      <th>High</th>\n",
       "      <th>Low</th>\n",
       "      <th>Close</th>\n",
       "      <th>Volume</th>\n",
       "      <th>Tomorrow</th>\n",
       "      <th>Target</th>\n",
       "    </tr>\n",
       "    <tr>\n",
       "      <th>Date</th>\n",
       "      <th></th>\n",
       "      <th></th>\n",
       "      <th></th>\n",
       "      <th></th>\n",
       "      <th></th>\n",
       "      <th></th>\n",
       "      <th></th>\n",
       "    </tr>\n",
       "  </thead>\n",
       "  <tbody>\n",
       "    <tr>\n",
       "      <th>1985-01-02</th>\n",
       "      <td>167.199997</td>\n",
       "      <td>167.199997</td>\n",
       "      <td>165.190002</td>\n",
       "      <td>165.369995</td>\n",
       "      <td>67820000</td>\n",
       "      <td>164.570007</td>\n",
       "      <td>0</td>\n",
       "    </tr>\n",
       "    <tr>\n",
       "      <th>1985-01-03</th>\n",
       "      <td>165.369995</td>\n",
       "      <td>166.110001</td>\n",
       "      <td>164.380005</td>\n",
       "      <td>164.570007</td>\n",
       "      <td>88880000</td>\n",
       "      <td>163.679993</td>\n",
       "      <td>0</td>\n",
       "    </tr>\n",
       "    <tr>\n",
       "      <th>1985-01-04</th>\n",
       "      <td>164.550003</td>\n",
       "      <td>164.550003</td>\n",
       "      <td>163.360001</td>\n",
       "      <td>163.679993</td>\n",
       "      <td>77480000</td>\n",
       "      <td>164.240005</td>\n",
       "      <td>1</td>\n",
       "    </tr>\n",
       "    <tr>\n",
       "      <th>1985-01-07</th>\n",
       "      <td>163.679993</td>\n",
       "      <td>164.710007</td>\n",
       "      <td>163.679993</td>\n",
       "      <td>164.240005</td>\n",
       "      <td>86190000</td>\n",
       "      <td>163.990005</td>\n",
       "      <td>0</td>\n",
       "    </tr>\n",
       "    <tr>\n",
       "      <th>1985-01-08</th>\n",
       "      <td>164.240005</td>\n",
       "      <td>164.589996</td>\n",
       "      <td>163.910004</td>\n",
       "      <td>163.990005</td>\n",
       "      <td>92110000</td>\n",
       "      <td>165.179993</td>\n",
       "      <td>1</td>\n",
       "    </tr>\n",
       "    <tr>\n",
       "      <th>...</th>\n",
       "      <td>...</td>\n",
       "      <td>...</td>\n",
       "      <td>...</td>\n",
       "      <td>...</td>\n",
       "      <td>...</td>\n",
       "      <td>...</td>\n",
       "      <td>...</td>\n",
       "    </tr>\n",
       "    <tr>\n",
       "      <th>2022-05-23</th>\n",
       "      <td>3919.419922</td>\n",
       "      <td>3981.879883</td>\n",
       "      <td>3909.040039</td>\n",
       "      <td>3973.750000</td>\n",
       "      <td>3392770000</td>\n",
       "      <td>3941.479980</td>\n",
       "      <td>0</td>\n",
       "    </tr>\n",
       "    <tr>\n",
       "      <th>2022-05-24</th>\n",
       "      <td>3942.939941</td>\n",
       "      <td>3955.679932</td>\n",
       "      <td>3875.129883</td>\n",
       "      <td>3941.479980</td>\n",
       "      <td>3901640000</td>\n",
       "      <td>3978.729980</td>\n",
       "      <td>1</td>\n",
       "    </tr>\n",
       "    <tr>\n",
       "      <th>2022-05-25</th>\n",
       "      <td>3929.590088</td>\n",
       "      <td>3999.330078</td>\n",
       "      <td>3925.030029</td>\n",
       "      <td>3978.729980</td>\n",
       "      <td>4322190000</td>\n",
       "      <td>4057.840088</td>\n",
       "      <td>1</td>\n",
       "    </tr>\n",
       "    <tr>\n",
       "      <th>2022-05-26</th>\n",
       "      <td>3984.600098</td>\n",
       "      <td>4075.139893</td>\n",
       "      <td>3984.600098</td>\n",
       "      <td>4057.840088</td>\n",
       "      <td>3961940000</td>\n",
       "      <td>4158.240234</td>\n",
       "      <td>1</td>\n",
       "    </tr>\n",
       "    <tr>\n",
       "      <th>2022-05-27</th>\n",
       "      <td>4077.429932</td>\n",
       "      <td>4158.490234</td>\n",
       "      <td>4077.429932</td>\n",
       "      <td>4158.240234</td>\n",
       "      <td>3560560000</td>\n",
       "      <td>NaN</td>\n",
       "      <td>0</td>\n",
       "    </tr>\n",
       "  </tbody>\n",
       "</table>\n",
       "<p>9429 rows × 7 columns</p>\n",
       "</div>"
      ],
      "text/plain": [
       "                   Open         High          Low        Close      Volume  \\\n",
       "Date                                                                         \n",
       "1985-01-02   167.199997   167.199997   165.190002   165.369995    67820000   \n",
       "1985-01-03   165.369995   166.110001   164.380005   164.570007    88880000   \n",
       "1985-01-04   164.550003   164.550003   163.360001   163.679993    77480000   \n",
       "1985-01-07   163.679993   164.710007   163.679993   164.240005    86190000   \n",
       "1985-01-08   164.240005   164.589996   163.910004   163.990005    92110000   \n",
       "...                 ...          ...          ...          ...         ...   \n",
       "2022-05-23  3919.419922  3981.879883  3909.040039  3973.750000  3392770000   \n",
       "2022-05-24  3942.939941  3955.679932  3875.129883  3941.479980  3901640000   \n",
       "2022-05-25  3929.590088  3999.330078  3925.030029  3978.729980  4322190000   \n",
       "2022-05-26  3984.600098  4075.139893  3984.600098  4057.840088  3961940000   \n",
       "2022-05-27  4077.429932  4158.490234  4077.429932  4158.240234  3560560000   \n",
       "\n",
       "               Tomorrow  Target  \n",
       "Date                             \n",
       "1985-01-02   164.570007       0  \n",
       "1985-01-03   163.679993       0  \n",
       "1985-01-04   164.240005       1  \n",
       "1985-01-07   163.990005       0  \n",
       "1985-01-08   165.179993       1  \n",
       "...                 ...     ...  \n",
       "2022-05-23  3941.479980       0  \n",
       "2022-05-24  3978.729980       1  \n",
       "2022-05-25  4057.840088       1  \n",
       "2022-05-26  4158.240234       1  \n",
       "2022-05-27          NaN       0  \n",
       "\n",
       "[9429 rows x 7 columns]"
      ]
     },
     "execution_count": 24,
     "metadata": {},
     "output_type": "execute_result"
    }
   ],
   "source": [
    "# set a target for the data set by comparing values\n",
    "\n",
    "sp500_new['Target'] = (sp500_new['Tomorrow'] > sp500_new['Close']).astype(int)\n",
    "sp500_new"
   ]
  },
  {
   "cell_type": "markdown",
   "id": "95c05207",
   "metadata": {},
   "source": [
    "My usual M.O Correlation"
   ]
  },
  {
   "cell_type": "code",
   "execution_count": 25,
   "id": "dafcd23f",
   "metadata": {},
   "outputs": [
    {
     "data": {
      "text/plain": [
       "<AxesSubplot:title={'center':'Heat map of correlation in the dataset.'}>"
      ]
     },
     "execution_count": 25,
     "metadata": {},
     "output_type": "execute_result"
    },
    {
     "data": {
      "image/png": "[encoded data removed]",
      "text/plain": [
       "<Figure size 1440x360 with 2 Axes>"
      ]
     },
     "metadata": {
      "needs_background": "light"
     },
     "output_type": "display_data"
    }
   ],
   "source": [
    "sp500_new.corr()\n",
    "\n",
    "plt.figure(figsize=(20,5))\n",
    "plt.title('Heat map of correlation in the dataset.')\n",
    "sns.heatmap(data=sp500_new.corr())"
   ]
  },
  {
   "cell_type": "markdown",
   "id": "6d4115e2",
   "metadata": {},
   "source": [
    "Mmmhmn, it seems as if no one is friends with my target, however, Is multicolinearity a thing? Time will tell."
   ]
  },
  {
   "cell_type": "markdown",
   "id": "79c291bc",
   "metadata": {},
   "source": [
    "### Modelling"
   ]
  },
  {
   "cell_type": "code",
   "execution_count": 26,
   "id": "0b7e243e",
   "metadata": {},
   "outputs": [],
   "source": [
    "# setting up features and target\n",
    "\n",
    "features = ['Open', 'High', 'Low','Close', 'Volume']\n",
    "\n",
    "X_train = sp500_new[features].iloc[:-100]\n",
    "y_train = sp500_new['Target'].iloc[:-100]\n",
    "\n",
    "X_test = sp500_new[features].iloc[-100:]\n",
    "y_test = sp500_new['Target'].iloc[-100:]"
   ]
  },
  {
   "cell_type": "code",
   "execution_count": 27,
   "id": "21f136b1",
   "metadata": {},
   "outputs": [],
   "source": [
    "# import Libraries\n",
    "\n",
    "from sklearn.ensemble import RandomForestClassifier\n",
    "from sklearn.linear_model import LogisticRegression"
   ]
  },
  {
   "cell_type": "code",
   "execution_count": 28,
   "id": "76b322c3",
   "metadata": {},
   "outputs": [],
   "source": [
    "# instantiate models\n",
    "\n",
    "model_rf = RandomForestClassifier()\n",
    "model_logit = LogisticRegression()"
   ]
  },
  {
   "cell_type": "code",
   "execution_count": 29,
   "id": "0d8bdd66",
   "metadata": {},
   "outputs": [
    {
     "data": {
      "text/plain": [
       "RandomForestClassifier()"
      ]
     },
     "execution_count": 29,
     "metadata": {},
     "output_type": "execute_result"
    }
   ],
   "source": [
    "# Train the models.\n",
    "\n",
    "model_rf.fit(X_train, y_train)\n"
   ]
  },
  {
   "cell_type": "code",
   "execution_count": 30,
   "id": "d2cf39b7",
   "metadata": {},
   "outputs": [
    {
     "data": {
      "text/plain": [
       "LogisticRegression()"
      ]
     },
     "execution_count": 30,
     "metadata": {},
     "output_type": "execute_result"
    }
   ],
   "source": [
    "model_logit.fit(X_train, y_train)\n"
   ]
  },
  {
   "cell_type": "markdown",
   "id": "09f9a894",
   "metadata": {},
   "source": [
    "### Evaluation"
   ]
  },
  {
   "cell_type": "code",
   "execution_count": 31,
   "id": "75656833",
   "metadata": {},
   "outputs": [
    {
     "name": "stdout",
     "output_type": "stream",
     "text": [
      "Random Forest:\n",
      "               precision    recall  f1-score   support\n",
      "\n",
      "           0       0.38      0.51      0.44        41\n",
      "           1       0.56      0.42      0.48        59\n",
      "\n",
      "    accuracy                           0.46       100\n",
      "   macro avg       0.47      0.47      0.46       100\n",
      "weighted avg       0.48      0.46      0.46       100\n",
      "\n"
     ]
    }
   ],
   "source": [
    "# import the metrics libraries\n",
    "from sklearn.metrics import classification_report\n",
    "\n",
    "# Evaluate the models.\n",
    "\n",
    "print('Random Forest:\\n {}'.format(classification_report(model_rf.predict(X_test), y_test)))\n",
    "#print('Logistic Regresssion: {}'.format(classification_report(model_logit.predict(X_test), y_test)))"
   ]
  },
  {
   "cell_type": "code",
   "execution_count": 32,
   "id": "35480e25",
   "metadata": {},
   "outputs": [
    {
     "name": "stdout",
     "output_type": "stream",
     "text": [
      "Logistic Regresssion:\n",
      "               precision    recall  f1-score   support\n",
      "\n",
      "           0       0.00      0.00      0.00         0\n",
      "           1       1.00      0.45      0.62       100\n",
      "\n",
      "    accuracy                           0.45       100\n",
      "   macro avg       0.50      0.23      0.31       100\n",
      "weighted avg       1.00      0.45      0.62       100\n",
      "\n"
     ]
    },
    {
     "name": "stderr",
     "output_type": "stream",
     "text": [
      "/data/user/0/ru.iiec.pydroid3/files/x86_64-linux-android/lib/python3.9/site-packages/sklearn/metrics/_classification.py:1308: UndefinedMetricWarning: Recall and F-score are ill-defined and being set to 0.0 in labels with no true samples. Use `zero_division` parameter to control this behavior.\n",
      "  _warn_prf(average, modifier, msg_start, len(result))\n",
      "/data/user/0/ru.iiec.pydroid3/files/x86_64-linux-android/lib/python3.9/site-packages/sklearn/metrics/_classification.py:1308: UndefinedMetricWarning: Recall and F-score are ill-defined and being set to 0.0 in labels with no true samples. Use `zero_division` parameter to control this behavior.\n",
      "  _warn_prf(average, modifier, msg_start, len(result))\n",
      "/data/user/0/ru.iiec.pydroid3/files/x86_64-linux-android/lib/python3.9/site-packages/sklearn/metrics/_classification.py:1308: UndefinedMetricWarning: Recall and F-score are ill-defined and being set to 0.0 in labels with no true samples. Use `zero_division` parameter to control this behavior.\n",
      "  _warn_prf(average, modifier, msg_start, len(result))\n"
     ]
    }
   ],
   "source": [
    "print('Logistic Regresssion:\\n {}'.format(classification_report(model_logit.predict(X_test), y_test)))"
   ]
  },
  {
   "cell_type": "markdown",
   "id": "72abeafd",
   "metadata": {},
   "source": [
    "### Model Deployment\n",
    "That's a joke right, not with this kind of score. Sorry Jenny Looper for not paying too much attention with the ARIMA as I think they would have done great here. I guess, it's time to dive back into learning sos as to improve on this travesty. see ya soonest."
   ]
  }
 ],
 "metadata": {
  "kernelspec": {
   "display_name": "Python 3 (ipykernel)",
   "language": "python",
   "name": "python3"
  },
  "language_info": {
   "codemirror_mode": {
    "name": "ipython",
    "version": 3
   },
   "file_extension": ".py",
   "mimetype": "text/x-python",
   "name": "python",
   "nbconvert_exporter": "python",
   "pygments_lexer": "ipython3",
   "version": "3.9.7"
  }
 },
 "nbformat": 4,
 "nbformat_minor": 5
}
